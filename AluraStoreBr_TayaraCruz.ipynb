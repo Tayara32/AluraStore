{
  "nbformat": 4,
  "nbformat_minor": 0,
  "metadata": {
    "colab": {
      "provenance": [],
      "toc_visible": true
    },
    "kernelspec": {
      "name": "python3",
      "display_name": "Python 3"
    },
    "language_info": {
      "name": "python"
    }
  },
  "cells": [
    {
      "cell_type": "markdown",
      "source": [
        "### Importação dos dados\n",
        "\n"
      ],
      "metadata": {
        "id": "RhEdWd9YUR6H"
      }
    },
    {
      "cell_type": "code",
      "execution_count": 3,
      "metadata": {
        "colab": {
          "base_uri": "https://localhost:8080/",
          "height": 206
        },
        "id": "T3EvaeQ_INIL",
        "outputId": "20d6f69a-0b22-438e-a497-6fd816c6a722"
      },
      "outputs": [
        {
          "output_type": "execute_result",
          "data": {
            "text/plain": [
              "              Produto   Categoria do Produto    Preço      Frete  \\\n",
              "0  Secadora de roupas       eletrodomesticos  1713.50  88.823159   \n",
              "1              Cômoda                 moveis   386.81  18.180908   \n",
              "2              Violão  instrumentos musicais   404.62  23.197592   \n",
              "3       Bola de vôlei        esporte e lazer    78.40   4.463341   \n",
              "4       Guarda roupas                 moveis   694.76  34.578319   \n",
              "\n",
              "  Data da Compra        Vendedor Local da compra  Avaliação da compra  \\\n",
              "0     17/12/2021  Camila Ribeiro              CE                    4   \n",
              "1     10/02/2021   Larissa Alves              RS                    3   \n",
              "2     22/01/2023  Lucas Oliveira              SP                    5   \n",
              "3     22/03/2022     Pedro Gomes              BA                    4   \n",
              "4     12/01/2022   Bianca Santos              SP                    1   \n",
              "\n",
              "  Tipo de pagamento  Quantidade de parcelas    lat    lon  \n",
              "0    cartao_credito                       4  -5.20 -39.53  \n",
              "1    cartao_credito                       1 -30.17 -53.50  \n",
              "2    cartao_credito                       3 -22.19 -48.79  \n",
              "3    cartao_credito                       6 -13.29 -41.71  \n",
              "4    cartao_credito                       1 -22.19 -48.79  "
            ],
            "text/html": [
              "\n",
              "  <div id=\"df-ce7fe287-3880-452c-881b-c29ee246835c\" class=\"colab-df-container\">\n",
              "    <div>\n",
              "<style scoped>\n",
              "    .dataframe tbody tr th:only-of-type {\n",
              "        vertical-align: middle;\n",
              "    }\n",
              "\n",
              "    .dataframe tbody tr th {\n",
              "        vertical-align: top;\n",
              "    }\n",
              "\n",
              "    .dataframe thead th {\n",
              "        text-align: right;\n",
              "    }\n",
              "</style>\n",
              "<table border=\"1\" class=\"dataframe\">\n",
              "  <thead>\n",
              "    <tr style=\"text-align: right;\">\n",
              "      <th></th>\n",
              "      <th>Produto</th>\n",
              "      <th>Categoria do Produto</th>\n",
              "      <th>Preço</th>\n",
              "      <th>Frete</th>\n",
              "      <th>Data da Compra</th>\n",
              "      <th>Vendedor</th>\n",
              "      <th>Local da compra</th>\n",
              "      <th>Avaliação da compra</th>\n",
              "      <th>Tipo de pagamento</th>\n",
              "      <th>Quantidade de parcelas</th>\n",
              "      <th>lat</th>\n",
              "      <th>lon</th>\n",
              "    </tr>\n",
              "  </thead>\n",
              "  <tbody>\n",
              "    <tr>\n",
              "      <th>0</th>\n",
              "      <td>Secadora de roupas</td>\n",
              "      <td>eletrodomesticos</td>\n",
              "      <td>1713.50</td>\n",
              "      <td>88.823159</td>\n",
              "      <td>17/12/2021</td>\n",
              "      <td>Camila Ribeiro</td>\n",
              "      <td>CE</td>\n",
              "      <td>4</td>\n",
              "      <td>cartao_credito</td>\n",
              "      <td>4</td>\n",
              "      <td>-5.20</td>\n",
              "      <td>-39.53</td>\n",
              "    </tr>\n",
              "    <tr>\n",
              "      <th>1</th>\n",
              "      <td>Cômoda</td>\n",
              "      <td>moveis</td>\n",
              "      <td>386.81</td>\n",
              "      <td>18.180908</td>\n",
              "      <td>10/02/2021</td>\n",
              "      <td>Larissa Alves</td>\n",
              "      <td>RS</td>\n",
              "      <td>3</td>\n",
              "      <td>cartao_credito</td>\n",
              "      <td>1</td>\n",
              "      <td>-30.17</td>\n",
              "      <td>-53.50</td>\n",
              "    </tr>\n",
              "    <tr>\n",
              "      <th>2</th>\n",
              "      <td>Violão</td>\n",
              "      <td>instrumentos musicais</td>\n",
              "      <td>404.62</td>\n",
              "      <td>23.197592</td>\n",
              "      <td>22/01/2023</td>\n",
              "      <td>Lucas Oliveira</td>\n",
              "      <td>SP</td>\n",
              "      <td>5</td>\n",
              "      <td>cartao_credito</td>\n",
              "      <td>3</td>\n",
              "      <td>-22.19</td>\n",
              "      <td>-48.79</td>\n",
              "    </tr>\n",
              "    <tr>\n",
              "      <th>3</th>\n",
              "      <td>Bola de vôlei</td>\n",
              "      <td>esporte e lazer</td>\n",
              "      <td>78.40</td>\n",
              "      <td>4.463341</td>\n",
              "      <td>22/03/2022</td>\n",
              "      <td>Pedro Gomes</td>\n",
              "      <td>BA</td>\n",
              "      <td>4</td>\n",
              "      <td>cartao_credito</td>\n",
              "      <td>6</td>\n",
              "      <td>-13.29</td>\n",
              "      <td>-41.71</td>\n",
              "    </tr>\n",
              "    <tr>\n",
              "      <th>4</th>\n",
              "      <td>Guarda roupas</td>\n",
              "      <td>moveis</td>\n",
              "      <td>694.76</td>\n",
              "      <td>34.578319</td>\n",
              "      <td>12/01/2022</td>\n",
              "      <td>Bianca Santos</td>\n",
              "      <td>SP</td>\n",
              "      <td>1</td>\n",
              "      <td>cartao_credito</td>\n",
              "      <td>1</td>\n",
              "      <td>-22.19</td>\n",
              "      <td>-48.79</td>\n",
              "    </tr>\n",
              "  </tbody>\n",
              "</table>\n",
              "</div>\n",
              "    <div class=\"colab-df-buttons\">\n",
              "\n",
              "  <div class=\"colab-df-container\">\n",
              "    <button class=\"colab-df-convert\" onclick=\"convertToInteractive('df-ce7fe287-3880-452c-881b-c29ee246835c')\"\n",
              "            title=\"Convert this dataframe to an interactive table.\"\n",
              "            style=\"display:none;\">\n",
              "\n",
              "  <svg xmlns=\"http://www.w3.org/2000/svg\" height=\"24px\" viewBox=\"0 -960 960 960\">\n",
              "    <path d=\"M120-120v-720h720v720H120Zm60-500h600v-160H180v160Zm220 220h160v-160H400v160Zm0 220h160v-160H400v160ZM180-400h160v-160H180v160Zm440 0h160v-160H620v160ZM180-180h160v-160H180v160Zm440 0h160v-160H620v160Z\"/>\n",
              "  </svg>\n",
              "    </button>\n",
              "\n",
              "  <style>\n",
              "    .colab-df-container {\n",
              "      display:flex;\n",
              "      gap: 12px;\n",
              "    }\n",
              "\n",
              "    .colab-df-convert {\n",
              "      background-color: #E8F0FE;\n",
              "      border: none;\n",
              "      border-radius: 50%;\n",
              "      cursor: pointer;\n",
              "      display: none;\n",
              "      fill: #1967D2;\n",
              "      height: 32px;\n",
              "      padding: 0 0 0 0;\n",
              "      width: 32px;\n",
              "    }\n",
              "\n",
              "    .colab-df-convert:hover {\n",
              "      background-color: #E2EBFA;\n",
              "      box-shadow: 0px 1px 2px rgba(60, 64, 67, 0.3), 0px 1px 3px 1px rgba(60, 64, 67, 0.15);\n",
              "      fill: #174EA6;\n",
              "    }\n",
              "\n",
              "    .colab-df-buttons div {\n",
              "      margin-bottom: 4px;\n",
              "    }\n",
              "\n",
              "    [theme=dark] .colab-df-convert {\n",
              "      background-color: #3B4455;\n",
              "      fill: #D2E3FC;\n",
              "    }\n",
              "\n",
              "    [theme=dark] .colab-df-convert:hover {\n",
              "      background-color: #434B5C;\n",
              "      box-shadow: 0px 1px 3px 1px rgba(0, 0, 0, 0.15);\n",
              "      filter: drop-shadow(0px 1px 2px rgba(0, 0, 0, 0.3));\n",
              "      fill: #FFFFFF;\n",
              "    }\n",
              "  </style>\n",
              "\n",
              "    <script>\n",
              "      const buttonEl =\n",
              "        document.querySelector('#df-ce7fe287-3880-452c-881b-c29ee246835c button.colab-df-convert');\n",
              "      buttonEl.style.display =\n",
              "        google.colab.kernel.accessAllowed ? 'block' : 'none';\n",
              "\n",
              "      async function convertToInteractive(key) {\n",
              "        const element = document.querySelector('#df-ce7fe287-3880-452c-881b-c29ee246835c');\n",
              "        const dataTable =\n",
              "          await google.colab.kernel.invokeFunction('convertToInteractive',\n",
              "                                                    [key], {});\n",
              "        if (!dataTable) return;\n",
              "\n",
              "        const docLinkHtml = 'Like what you see? Visit the ' +\n",
              "          '<a target=\"_blank\" href=https://colab.research.google.com/notebooks/data_table.ipynb>data table notebook</a>'\n",
              "          + ' to learn more about interactive tables.';\n",
              "        element.innerHTML = '';\n",
              "        dataTable['output_type'] = 'display_data';\n",
              "        await google.colab.output.renderOutput(dataTable, element);\n",
              "        const docLink = document.createElement('div');\n",
              "        docLink.innerHTML = docLinkHtml;\n",
              "        element.appendChild(docLink);\n",
              "      }\n",
              "    </script>\n",
              "  </div>\n",
              "\n",
              "\n",
              "<div id=\"df-6c691333-6a26-4337-8efa-ccbb32afc714\">\n",
              "  <button class=\"colab-df-quickchart\" onclick=\"quickchart('df-6c691333-6a26-4337-8efa-ccbb32afc714')\"\n",
              "            title=\"Suggest charts\"\n",
              "            style=\"display:none;\">\n",
              "\n",
              "<svg xmlns=\"http://www.w3.org/2000/svg\" height=\"24px\"viewBox=\"0 0 24 24\"\n",
              "     width=\"24px\">\n",
              "    <g>\n",
              "        <path d=\"M19 3H5c-1.1 0-2 .9-2 2v14c0 1.1.9 2 2 2h14c1.1 0 2-.9 2-2V5c0-1.1-.9-2-2-2zM9 17H7v-7h2v7zm4 0h-2V7h2v10zm4 0h-2v-4h2v4z\"/>\n",
              "    </g>\n",
              "</svg>\n",
              "  </button>\n",
              "\n",
              "<style>\n",
              "  .colab-df-quickchart {\n",
              "      --bg-color: #E8F0FE;\n",
              "      --fill-color: #1967D2;\n",
              "      --hover-bg-color: #E2EBFA;\n",
              "      --hover-fill-color: #174EA6;\n",
              "      --disabled-fill-color: #AAA;\n",
              "      --disabled-bg-color: #DDD;\n",
              "  }\n",
              "\n",
              "  [theme=dark] .colab-df-quickchart {\n",
              "      --bg-color: #3B4455;\n",
              "      --fill-color: #D2E3FC;\n",
              "      --hover-bg-color: #434B5C;\n",
              "      --hover-fill-color: #FFFFFF;\n",
              "      --disabled-bg-color: #3B4455;\n",
              "      --disabled-fill-color: #666;\n",
              "  }\n",
              "\n",
              "  .colab-df-quickchart {\n",
              "    background-color: var(--bg-color);\n",
              "    border: none;\n",
              "    border-radius: 50%;\n",
              "    cursor: pointer;\n",
              "    display: none;\n",
              "    fill: var(--fill-color);\n",
              "    height: 32px;\n",
              "    padding: 0;\n",
              "    width: 32px;\n",
              "  }\n",
              "\n",
              "  .colab-df-quickchart:hover {\n",
              "    background-color: var(--hover-bg-color);\n",
              "    box-shadow: 0 1px 2px rgba(60, 64, 67, 0.3), 0 1px 3px 1px rgba(60, 64, 67, 0.15);\n",
              "    fill: var(--button-hover-fill-color);\n",
              "  }\n",
              "\n",
              "  .colab-df-quickchart-complete:disabled,\n",
              "  .colab-df-quickchart-complete:disabled:hover {\n",
              "    background-color: var(--disabled-bg-color);\n",
              "    fill: var(--disabled-fill-color);\n",
              "    box-shadow: none;\n",
              "  }\n",
              "\n",
              "  .colab-df-spinner {\n",
              "    border: 2px solid var(--fill-color);\n",
              "    border-color: transparent;\n",
              "    border-bottom-color: var(--fill-color);\n",
              "    animation:\n",
              "      spin 1s steps(1) infinite;\n",
              "  }\n",
              "\n",
              "  @keyframes spin {\n",
              "    0% {\n",
              "      border-color: transparent;\n",
              "      border-bottom-color: var(--fill-color);\n",
              "      border-left-color: var(--fill-color);\n",
              "    }\n",
              "    20% {\n",
              "      border-color: transparent;\n",
              "      border-left-color: var(--fill-color);\n",
              "      border-top-color: var(--fill-color);\n",
              "    }\n",
              "    30% {\n",
              "      border-color: transparent;\n",
              "      border-left-color: var(--fill-color);\n",
              "      border-top-color: var(--fill-color);\n",
              "      border-right-color: var(--fill-color);\n",
              "    }\n",
              "    40% {\n",
              "      border-color: transparent;\n",
              "      border-right-color: var(--fill-color);\n",
              "      border-top-color: var(--fill-color);\n",
              "    }\n",
              "    60% {\n",
              "      border-color: transparent;\n",
              "      border-right-color: var(--fill-color);\n",
              "    }\n",
              "    80% {\n",
              "      border-color: transparent;\n",
              "      border-right-color: var(--fill-color);\n",
              "      border-bottom-color: var(--fill-color);\n",
              "    }\n",
              "    90% {\n",
              "      border-color: transparent;\n",
              "      border-bottom-color: var(--fill-color);\n",
              "    }\n",
              "  }\n",
              "</style>\n",
              "\n",
              "  <script>\n",
              "    async function quickchart(key) {\n",
              "      const quickchartButtonEl =\n",
              "        document.querySelector('#' + key + ' button');\n",
              "      quickchartButtonEl.disabled = true;  // To prevent multiple clicks.\n",
              "      quickchartButtonEl.classList.add('colab-df-spinner');\n",
              "      try {\n",
              "        const charts = await google.colab.kernel.invokeFunction(\n",
              "            'suggestCharts', [key], {});\n",
              "      } catch (error) {\n",
              "        console.error('Error during call to suggestCharts:', error);\n",
              "      }\n",
              "      quickchartButtonEl.classList.remove('colab-df-spinner');\n",
              "      quickchartButtonEl.classList.add('colab-df-quickchart-complete');\n",
              "    }\n",
              "    (() => {\n",
              "      let quickchartButtonEl =\n",
              "        document.querySelector('#df-6c691333-6a26-4337-8efa-ccbb32afc714 button');\n",
              "      quickchartButtonEl.style.display =\n",
              "        google.colab.kernel.accessAllowed ? 'block' : 'none';\n",
              "    })();\n",
              "  </script>\n",
              "</div>\n",
              "\n",
              "    </div>\n",
              "  </div>\n"
            ],
            "application/vnd.google.colaboratory.intrinsic+json": {
              "type": "dataframe",
              "variable_name": "loja3",
              "summary": "{\n  \"name\": \"loja3\",\n  \"rows\": 2359,\n  \"fields\": [\n    {\n      \"column\": \"Produto\",\n      \"properties\": {\n        \"dtype\": \"category\",\n        \"num_unique_values\": 51,\n        \"samples\": [\n          \"Sof\\u00e1 retr\\u00e1til\",\n          \"Jogo de tabuleiro\",\n          \"Copo t\\u00e9rmico\"\n        ],\n        \"semantic_type\": \"\",\n        \"description\": \"\"\n      }\n    },\n    {\n      \"column\": \"Categoria do Produto\",\n      \"properties\": {\n        \"dtype\": \"category\",\n        \"num_unique_values\": 8,\n        \"samples\": [\n          \"moveis\",\n          \"brinquedos\",\n          \"eletrodomesticos\"\n        ],\n        \"semantic_type\": \"\",\n        \"description\": \"\"\n      }\n    },\n    {\n      \"column\": \"Pre\\u00e7o\",\n      \"properties\": {\n        \"dtype\": \"number\",\n        \"std\": 774.1916909262811,\n        \"min\": 10.08,\n        \"max\": 3957.62,\n        \"num_unique_values\": 2336,\n        \"samples\": [\n          28.03,\n          52.73,\n          781.7\n        ],\n        \"semantic_type\": \"\",\n        \"description\": \"\"\n      }\n    },\n    {\n      \"column\": \"Frete\",\n      \"properties\": {\n        \"dtype\": \"number\",\n        \"std\": 41.26051552773612,\n        \"min\": 0.0,\n        \"max\": 211.2576238709,\n        \"num_unique_values\": 2150,\n        \"samples\": [\n          49.023695298,\n          96.9569529583,\n          6.8041556613\n        ],\n        \"semantic_type\": \"\",\n        \"description\": \"\"\n      }\n    },\n    {\n      \"column\": \"Data da Compra\",\n      \"properties\": {\n        \"dtype\": \"object\",\n        \"num_unique_values\": 1024,\n        \"samples\": [\n          \"04/06/2020\",\n          \"28/03/2023\",\n          \"29/05/2022\"\n        ],\n        \"semantic_type\": \"\",\n        \"description\": \"\"\n      }\n    },\n    {\n      \"column\": \"Vendedor\",\n      \"properties\": {\n        \"dtype\": \"category\",\n        \"num_unique_values\": 14,\n        \"samples\": [\n          \"Beatriz Moraes\",\n          \"Rafael Costa\",\n          \"Camila Ribeiro\"\n        ],\n        \"semantic_type\": \"\",\n        \"description\": \"\"\n      }\n    },\n    {\n      \"column\": \"Local da compra\",\n      \"properties\": {\n        \"dtype\": \"category\",\n        \"num_unique_values\": 27,\n        \"samples\": [\n          \"PE\",\n          \"PR\",\n          \"DF\"\n        ],\n        \"semantic_type\": \"\",\n        \"description\": \"\"\n      }\n    },\n    {\n      \"column\": \"Avalia\\u00e7\\u00e3o da compra\",\n      \"properties\": {\n        \"dtype\": \"number\",\n        \"std\": 1,\n        \"min\": 1,\n        \"max\": 5,\n        \"num_unique_values\": 5,\n        \"samples\": [\n          3,\n          2,\n          5\n        ],\n        \"semantic_type\": \"\",\n        \"description\": \"\"\n      }\n    },\n    {\n      \"column\": \"Tipo de pagamento\",\n      \"properties\": {\n        \"dtype\": \"category\",\n        \"num_unique_values\": 4,\n        \"samples\": [\n          \"boleto\",\n          \"cartao_debito\",\n          \"cartao_credito\"\n        ],\n        \"semantic_type\": \"\",\n        \"description\": \"\"\n      }\n    },\n    {\n      \"column\": \"Quantidade de parcelas\",\n      \"properties\": {\n        \"dtype\": \"number\",\n        \"std\": 2,\n        \"min\": 1,\n        \"max\": 24,\n        \"num_unique_values\": 17,\n        \"samples\": [\n          4,\n          1,\n          2\n        ],\n        \"semantic_type\": \"\",\n        \"description\": \"\"\n      }\n    },\n    {\n      \"column\": \"lat\",\n      \"properties\": {\n        \"dtype\": \"number\",\n        \"std\": 5.465572145921901,\n        \"min\": -30.17,\n        \"max\": 1.99,\n        \"num_unique_values\": 27,\n        \"samples\": [\n          -8.38,\n          -24.89,\n          -15.83\n        ],\n        \"semantic_type\": \"\",\n        \"description\": \"\"\n      }\n    },\n    {\n      \"column\": \"lon\",\n      \"properties\": {\n        \"dtype\": \"number\",\n        \"std\": 4.197520488221453,\n        \"min\": -70.55,\n        \"max\": -36.59,\n        \"num_unique_values\": 27,\n        \"samples\": [\n          -37.86,\n          -51.55,\n          -47.86\n        ],\n        \"semantic_type\": \"\",\n        \"description\": \"\"\n      }\n    }\n  ]\n}"
            }
          },
          "metadata": {},
          "execution_count": 3
        }
      ],
      "source": [
        "import pandas as pd\n",
        "\n",
        "url = \"https://raw.githubusercontent.com/alura-es-cursos/challenge1-data-science/refs/heads/main/base-de-dados-challenge-1/loja_1.csv\"\n",
        "url2 = \"https://raw.githubusercontent.com/alura-es-cursos/challenge1-data-science/refs/heads/main/base-de-dados-challenge-1/loja_2.csv\"\n",
        "url3 = \"https://raw.githubusercontent.com/alura-es-cursos/challenge1-data-science/refs/heads/main/base-de-dados-challenge-1/loja_3.csv\"\n",
        "url4 = \"https://raw.githubusercontent.com/alura-es-cursos/challenge1-data-science/refs/heads/main/base-de-dados-challenge-1/loja_4.csv\"\n",
        "\n",
        "loja = pd.read_csv(url)\n",
        "loja2 = pd.read_csv(url2)\n",
        "loja3 = pd.read_csv(url3)\n",
        "loja4 = pd.read_csv(url4)\n",
        "\n",
        "#mostra as 5 primeiras linhas de cada DataFrame (loja, loja1, loja12, loja3)\n",
        "loja3.head()"
      ]
    },
    {
      "cell_type": "markdown",
      "source": [
        "#1. Análise do faturamento\n"
      ],
      "metadata": {
        "id": "X62IW3KFUIYm"
      }
    },
    {
      "cell_type": "code",
      "source": [
        "print('Faturamento Total de cada loja: ')\n",
        "\n",
        "'''\n",
        "Conceitos aplicados:\n",
        "  Acesso a colunas\n",
        "  Uso de .sum()\n",
        "  Print com interpolação de string (f-string)\n",
        "  Organização de análise por loja\n",
        "'''\n",
        "\n",
        "faturamento_loja1 = loja['Preço'].sum()\n",
        "print(f'Faturamento loja 1: {faturamento_loja1}')\n",
        "faturamento_loja2 = loja2['Preço'].sum()\n",
        "print(f'Faturamento loja 2: {faturamento_loja2}')\n",
        "faturamento_loja3 = loja3['Preço'].sum()\n",
        "print(f'Faturamento loja 3: {faturamento_loja3}')\n",
        "faturamento_loja4 = loja4['Preço'].sum()\n",
        "print(f'Faturamento loja 4: {faturamento_loja4}')\n",
        "\n",
        "\n"
      ],
      "metadata": {
        "id": "xykobSftV64I",
        "colab": {
          "base_uri": "https://localhost:8080/"
        },
        "outputId": "8569de61-7050-4c00-ed0d-b537c449a267"
      },
      "execution_count": 8,
      "outputs": [
        {
          "output_type": "stream",
          "name": "stdout",
          "text": [
            "Faturamento Total de cada loja: \n",
            "Faturamento loja 1: 1534509.12\n",
            "Faturamento loja 2: 1488459.06\n",
            "Faturamento loja 3: 1464025.03\n",
            "Faturamento loja 4: 1384497.58\n"
          ]
        }
      ]
    },
    {
      "cell_type": "code",
      "source": [
        "import matplotlib.pyplot as plt\n",
        "\n",
        "lojas = ['Loja 1', 'Loja 2', 'Loja 3', 'Loja 4']\n",
        "faturamento = [\n",
        "    faturamento_loja1,\n",
        "    faturamento_loja2,\n",
        "    faturamento_loja3,\n",
        "    faturamento_loja4\n",
        "]\n",
        "\n",
        "plt.figure(figsize=(10,6))\n",
        "plt.bar(lojas, faturamento, color=plt.cm.Pastel1.colors)\n",
        "\n",
        "plt.title('Faturamento Total de cada Loja', fontsize=14)\n",
        "plt.xlabel('Lojas', fontsize=12)\n",
        "plt.ylabel('Faturamento', fontsize=12)\n",
        "\n",
        "plt.show()\n"
      ],
      "metadata": {
        "colab": {
          "base_uri": "https://localhost:8080/",
          "height": 569
        },
        "id": "WJ7G8Pr3ICMS",
        "outputId": "6b1763de-1201-4f27-bae8-3eeb984531fd"
      },
      "execution_count": 64,
      "outputs": [
        {
          "output_type": "display_data",
          "data": {
            "text/plain": [
              "<Figure size 1000x600 with 1 Axes>"
            ],
            "image/png": "[encoded data removed]"
          },
          "metadata": {}
        }
      ]
    },
    {
      "cell_type": "markdown",
      "source": [
        "# 2. Vendas por Categoria\n"
      ],
      "metadata": {
        "id": "2V_vcAPzWZmR"
      }
    },
    {
      "cell_type": "code",
      "source": [
        "\n",
        "faturamento_por_categoria_loja1 = loja.groupby('Categoria do Produto')['Preço'].sum().reset_index()\n",
        "faturamento_por_categoria_loja2 = loja2.groupby('Categoria do Produto')['Preço'].sum().reset_index()\n",
        "faturamento_por_categoria_loja3 = loja3.groupby('Categoria do Produto')['Preço'].sum().reset_index()\n",
        "faturamento_por_categoria_loja4 = loja4.groupby('Categoria do Produto')['Preço'].sum().reset_index()\n",
        "\n",
        "faturamento_por_categoria_loja1.columns = ['Categoria', 'Faturamento']\n",
        "faturamento_por_categoria_loja2.columns = ['Categoria', 'Faturamento']\n",
        "faturamento_por_categoria_loja3.columns = ['Categoria', 'Faturamento']\n",
        "faturamento_por_categoria_loja4.columns = ['Categoria', 'Faturamento']\n",
        "\n",
        "\n",
        "'''\n",
        "Conceitos aplicados:\n",
        "  Agrupar dados ..groupby()\n",
        "'''\n",
        "\n",
        "print('Faturamento por Categoria - Loja 1:')\n",
        "print(faturamento_por_categoria_loja1)\n",
        "print('\\nFaturamento por Categoria - Loja 2:')\n",
        "print(faturamento_por_categoria_loja2)\n",
        "print('\\nFaturamento por Categoria - Loja 3:')\n",
        "print(faturamento_por_categoria_loja3)\n",
        "print('\\nFaturamento por Categoria - Loja 4:')\n",
        "print(faturamento_por_categoria_loja4)\n"
      ],
      "metadata": {
        "id": "A34YupIuYhfF",
        "colab": {
          "base_uri": "https://localhost:8080/"
        },
        "outputId": "19e95caf-d5bc-488f-acc8-cd1879d242a8"
      },
      "execution_count": 28,
      "outputs": [
        {
          "output_type": "stream",
          "name": "stdout",
          "text": [
            "Faturamento por Categoria - Loja 1:\n",
            "               Categoria  Faturamento\n",
            "0             brinquedos     23993.78\n",
            "1       eletrodomesticos    484913.36\n",
            "2            eletronicos    572659.23\n",
            "3        esporte e lazer     52387.55\n",
            "4  instrumentos musicais    121731.69\n",
            "5                 livros     11713.92\n",
            "6                 moveis    250178.11\n",
            "7  utilidades domesticas     16931.48\n",
            "\n",
            "Faturamento por Categoria - Loja 2:\n",
            "               Categoria  Faturamento\n",
            "0             brinquedos     21262.21\n",
            "1       eletrodomesticos    464758.13\n",
            "2            eletronicos    547773.71\n",
            "3        esporte e lazer     46326.09\n",
            "4  instrumentos musicais    139987.03\n",
            "5                 livros     13454.35\n",
            "6                 moveis    235234.68\n",
            "7  utilidades domesticas     19662.86\n",
            "\n",
            "Faturamento por Categoria - Loja 3:\n",
            "               Categoria  Faturamento\n",
            "0             brinquedos     25869.20\n",
            "1       eletrodomesticos    438984.89\n",
            "2            eletronicos    547699.92\n",
            "3        esporte e lazer     47456.10\n",
            "4  instrumentos musicais    103174.45\n",
            "5                 livros     12664.70\n",
            "6                 moveis    268095.56\n",
            "7  utilidades domesticas     20080.21\n",
            "\n",
            "Faturamento por Categoria - Loja 4:\n",
            "               Categoria  Faturamento\n",
            "0             brinquedos     27015.67\n",
            "1       eletrodomesticos    377680.65\n",
            "2            eletronicos    545966.86\n",
            "3        esporte e lazer     44465.65\n",
            "4  instrumentos musicais    100136.50\n",
            "5                 livros     12427.77\n",
            "6                 moveis    256705.65\n",
            "7  utilidades domesticas     20098.83\n"
          ]
        }
      ]
    },
    {
      "cell_type": "code",
      "source": [
        "\n",
        "import pandas as pd\n",
        "\n",
        "faturamento_por_categoria_loja1 = loja.groupby('Categoria do Produto')['Preço'].sum().sort_values(ascending=False)\n",
        "faturamento_por_categoria_loja2 = loja2.groupby('Categoria do Produto')['Preço'].sum().sort_values(ascending=False)\n",
        "faturamento_por_categoria_loja3 = loja3.groupby('Categoria do Produto')['Preço'].sum().sort_values(ascending=False)\n",
        "faturamento_por_categoria_loja4 = loja4.groupby('Categoria do Produto')['Preço'].sum().sort_values(ascending=False)\n",
        "\n",
        "print(\"Categorias mais populares - Loja 1:\")\n",
        "print(faturamento_por_categoria_loja1.head())\n",
        "print(\"\\nCategorias mais populares - Loja 2:\")\n",
        "print(faturamento_por_categoria_loja2.head())\n",
        "print(\"\\nCategorias mais populares - Loja 3:\")\n",
        "print(faturamento_por_categoria_loja3.head())\n",
        "print(\"\\nCategorias mais populares - Loja 4:\")\n",
        "print(faturamento_por_categoria_loja4.head())\n",
        "\n",
        "'''\n",
        "Conceitos aplicados:\n",
        "  Ordenar os valores .sort_values(ascending=False)\n",
        "  Visualização parcial .head()\n",
        "'''\n"
      ],
      "metadata": {
        "id": "yZR6cOjXYSk1",
        "colab": {
          "base_uri": "https://localhost:8080/"
        },
        "outputId": "3879dc3f-346e-4856-da84-e712a0e55aa3"
      },
      "execution_count": 31,
      "outputs": [
        {
          "output_type": "stream",
          "name": "stdout",
          "text": [
            "Categorias mais populares - Loja 1:\n",
            "Categoria do Produto\n",
            "eletronicos              572659.23\n",
            "eletrodomesticos         484913.36\n",
            "moveis                   250178.11\n",
            "instrumentos musicais    121731.69\n",
            "esporte e lazer           52387.55\n",
            "Name: Preço, dtype: float64\n",
            "\n",
            "Categorias mais populares - Loja 2:\n",
            "Categoria do Produto\n",
            "eletronicos              547773.71\n",
            "eletrodomesticos         464758.13\n",
            "moveis                   235234.68\n",
            "instrumentos musicais    139987.03\n",
            "esporte e lazer           46326.09\n",
            "Name: Preço, dtype: float64\n",
            "\n",
            "Categorias mais populares - Loja 3:\n",
            "Categoria do Produto\n",
            "eletronicos              547699.92\n",
            "eletrodomesticos         438984.89\n",
            "moveis                   268095.56\n",
            "instrumentos musicais    103174.45\n",
            "esporte e lazer           47456.10\n",
            "Name: Preço, dtype: float64\n",
            "\n",
            "Categorias mais populares - Loja 4:\n",
            "Categoria do Produto\n",
            "eletronicos              545966.86\n",
            "eletrodomesticos         377680.65\n",
            "moveis                   256705.65\n",
            "instrumentos musicais    100136.50\n",
            "esporte e lazer           44465.65\n",
            "Name: Preço, dtype: float64\n"
          ]
        }
      ]
    },
    {
      "cell_type": "markdown",
      "source": [
        "# 3. Média de Avaliação das Lojas"
      ],
      "metadata": {
        "id": "Rq6tU_xSY3jk"
      }
    },
    {
      "cell_type": "code",
      "source": [
        "# print(loja.columns)\n",
        "\n",
        "# avaliacao_compra = loja['Avaliação da compra'].sum()\n",
        "# media_loja1 = avaliacao_compra / len(loja['Avaliação da compra'])\n",
        "\n",
        "\n",
        "media_loja1 = loja['Avaliação da compra'].mean()\n",
        "media_loja2 = loja2['Avaliação da compra'].mean()\n",
        "media_loja3 = loja3['Avaliação da compra'].mean()\n",
        "media_loja4 = loja4['Avaliação da compra'].mean()\n",
        "\n",
        "'''\n",
        "Conceitos aplicados:\n",
        "  Uso de .mean() para média\n",
        "'''\n",
        "print(\"Média de Avaliação por Loja: \")\n",
        "print(\"Loja 1:\")\n",
        "print(f'{media_loja1:.2f}')\n",
        "print(\"\\nLoja 2:\")\n",
        "print(f'{media_loja2:.2f}')\n",
        "print(\"\\nLoja 3:\")\n",
        "print(f'{media_loja3:.2f}')\n",
        "print(\"\\nLoja 4:\")\n",
        "print(f'{media_loja4:.2f}')\n"
      ],
      "metadata": {
        "id": "bh3jjjJwY5MU",
        "colab": {
          "base_uri": "https://localhost:8080/"
        },
        "outputId": "930520f7-9363-4bb5-9a12-6d350efeff64"
      },
      "execution_count": 36,
      "outputs": [
        {
          "output_type": "stream",
          "name": "stdout",
          "text": [
            "Média de Avaliação por Loja\n",
            "Loja 1:\n",
            "3.98\n",
            "\n",
            "Loja 2:\n",
            "4.04\n",
            "\n",
            "Loja 3:\n",
            "4.05\n",
            "\n",
            "Loja 4:\n",
            "4.00\n"
          ]
        }
      ]
    },
    {
      "cell_type": "code",
      "source": [
        "\n",
        "import matplotlib.pyplot as plt\n",
        "\n",
        "labels = ['Loja 1', 'Loja 2', 'Loja 3', 'Loja 4']\n",
        "medias = [media_loja1, media_loja2, media_loja3, media_loja4]\n",
        "\n",
        "plt.figure(figsize=(10, 6))\n",
        "plt.plot(labels, medias, marker='o', linestyle='-', color='magenta', linewidth=1)\n",
        "\n",
        "plt.title('Média da Avaliação de Compra por Loja', fontsize=14)\n",
        "plt.xlabel('Lojas', fontsize=12)\n",
        "plt.ylabel('Média da Avaliação', fontsize=10)\n",
        "\n",
        "\n",
        "plt.grid(True)\n",
        "plt.show()\n",
        "\n"
      ],
      "metadata": {
        "id": "I0KkjPoTY88F",
        "colab": {
          "base_uri": "https://localhost:8080/",
          "height": 570
        },
        "outputId": "786e1204-3d7e-4188-ca1d-a2ed35b2a05b"
      },
      "execution_count": 55,
      "outputs": [
        {
          "output_type": "display_data",
          "data": {
            "text/plain": [
              "<Figure size 1000x600 with 1 Axes>"
            ],
            "image/png": "[encoded data removed]"
          },
          "metadata": {}
        }
      ]
    },
    {
      "cell_type": "markdown",
      "source": [
        "# 4. Produtos Mais e Menos Vendidos"
      ],
      "metadata": {
        "id": "DmNp1KPBZCm-"
      }
    },
    {
      "cell_type": "code",
      "source": [
        "vendas_produto_loja1 = loja.groupby('Produto')['Preço'].sum()\n",
        "produto_mais_vendido_loja1 = vendas_produto_loja1.sort_values(ascending=False).head(1)\n",
        "produto_menos_vendido_loja1 = vendas_produto_loja1.sort_values(ascending=False).tail(1)\n",
        "\n",
        "vendas_produto_loja2 = loja2.groupby('Produto')['Preço'].sum()\n",
        "produto_mais_vendido_loja2 = vendas_produto_loja2.sort_values(ascending=False).head(1)\n",
        "produto_menos_vendido_loja2 = vendas_produto_loja2.sort_values(ascending=False).tail(1)\n",
        "\n",
        "vendas_produto_loja3 = loja3.groupby('Produto')['Preço'].sum()\n",
        "produto_mais_vendido_loja3 = vendas_produto_loja3.sort_values(ascending=False).head(1)\n",
        "produto_menos_vendido_loja3 = vendas_produto_loja3.sort_values(ascending=False).tail(1)\n",
        "\n",
        "vendas_produto_loja4 = loja4.groupby('Produto')['Preço'].sum()\n",
        "produto_mais_vendido_loja4 = vendas_produto_loja4.sort_values(ascending=False).head(1)\n",
        "produto_menos_vendido_loja4 = vendas_produto_loja4.sort_values(ascending=False).tail(1)\n",
        "\n",
        "\n",
        "print(\"LOJA 1:\")\n",
        "print(\"Produto mais vendido:\")\n",
        "print(produto_mais_vendido_loja1)\n",
        "print(\"\\nProduto menos vendido:\")\n",
        "print(produto_menos_vendido_loja1)\n",
        "\n",
        "print(\"\\nLOJA 2:\")\n",
        "print(\"Produto mais vendido:\")\n",
        "print(produto_mais_vendido_loja2)\n",
        "print(\"\\nProduto menos vendido:\")\n",
        "print(produto_menos_vendido_loja2)\n",
        "\n",
        "print(\"\\nLOJA 3:\")\n",
        "print(\"Produto mais vendido:\")\n",
        "print(produto_mais_vendido_loja3)\n",
        "print(\"\\nProduto menos vendido:\")\n",
        "print(produto_menos_vendido_loja3)\n",
        "\n",
        "print(\"\\nLOJA 4:\")\n",
        "print(\"Produto mais vendido:\")\n",
        "print(produto_mais_vendido_loja4)\n",
        "print(\"\\nProduto menos vendido:\")\n",
        "print(produto_menos_vendido_loja4)"
      ],
      "metadata": {
        "id": "qoyjqijQZHfF",
        "colab": {
          "base_uri": "https://localhost:8080/"
        },
        "outputId": "d6f48369-e511-4534-c95d-dfb00f7af597"
      },
      "execution_count": 62,
      "outputs": [
        {
          "output_type": "stream",
          "name": "stdout",
          "text": [
            "LOJA 1:\n",
            "Produto mais vendido:\n",
            "Produto\n",
            "TV Led UHD 4K    189534.28\n",
            "Name: Preço, dtype: float64\n",
            "\n",
            "Produto menos vendido:\n",
            "Produto\n",
            "Corda de pular    870.89\n",
            "Name: Preço, dtype: float64\n",
            "\n",
            "LOJA 2:\n",
            "Produto mais vendido:\n",
            "Produto\n",
            "Celular Plus X42    150967.83\n",
            "Name: Preço, dtype: float64\n",
            "\n",
            "Produto menos vendido:\n",
            "Produto\n",
            "Cubo mágico 8x8    858.22\n",
            "Name: Preço, dtype: float64\n",
            "\n",
            "LOJA 3:\n",
            "Produto mais vendido:\n",
            "Produto\n",
            "Geladeira    133185.99\n",
            "Name: Preço, dtype: float64\n",
            "\n",
            "Produto menos vendido:\n",
            "Produto\n",
            "Cubo mágico 8x8    853.81\n",
            "Name: Preço, dtype: float64\n",
            "\n",
            "LOJA 4:\n",
            "Produto mais vendido:\n",
            "Produto\n",
            "Celular Plus X42    128930.07\n",
            "Name: Preço, dtype: float64\n",
            "\n",
            "Produto menos vendido:\n",
            "Produto\n",
            "Corda de pular    939.74\n",
            "Name: Preço, dtype: float64\n"
          ]
        }
      ]
    },
    {
      "cell_type": "code",
      "source": [
        "import matplotlib.pyplot as plt\n",
        "\n",
        "def grafico_pizza_produtos_mais_menos_vendidos(loja, nome_loja):\n",
        "    vendas_produto = loja.groupby('Produto')['Preço'].sum()\n",
        "\n",
        "    produto_mais_vendido = vendas_produto.idxmax() #nome do produto com maior valor\n",
        "    produto_menos_vendido = vendas_produto.idxmin()\n",
        "\n",
        "    vendas_mais_vendido = vendas_produto.max()\n",
        "    vendas_menos_vendido = vendas_produto.min()\n",
        "\n",
        "    produtos = [produto_mais_vendido, produto_menos_vendido]\n",
        "    vendas = [vendas_mais_vendido, vendas_menos_vendido]\n",
        "\n",
        "    plt.figure(figsize=(6,2))\n",
        "    plt.barh(produtos, vendas, color=['orange', 'red'])\n",
        "    plt.title(f'Produto Mais e Menos Vendido - {nome_loja}', fontsize=14)\n",
        "    plt.show()\n",
        "\n",
        "\n",
        "grafico_pizza_produtos_mais_menos_vendidos(loja, 'Loja 1')\n",
        "grafico_pizza_produtos_mais_menos_vendidos(loja2, 'Loja 2')\n",
        "grafico_pizza_produtos_mais_menos_vendidos(loja3, 'Loja 3')\n",
        "grafico_pizza_produtos_mais_menos_vendidos(loja4, 'Loja 4')\n"
      ],
      "metadata": {
        "id": "0Sw3sd4IZIGW",
        "colab": {
          "base_uri": "https://localhost:8080/",
          "height": 901
        },
        "outputId": "19cfcb5c-8f65-47ae-ddb3-1acc1a69866c"
      },
      "execution_count": 74,
      "outputs": [
        {
          "output_type": "display_data",
          "data": {
            "text/plain": [
              "<Figure size 600x200 with 1 Axes>"
            ],
            "image/png": "[encoded data removed]"
          },
          "metadata": {}
        },
        {
          "output_type": "display_data",
          "data": {
            "text/plain": [
              "<Figure size 600x200 with 1 Axes>"
            ],
            "image/png": "[encoded data removed]"
          },
          "metadata": {}
        },
        {
          "output_type": "display_data",
          "data": {
            "text/plain": [
              "<Figure size 600x200 with 1 Axes>"
            ],
            "image/png": "[encoded data removed]"
          },
          "metadata": {}
        },
        {
          "output_type": "display_data",
          "data": {
            "text/plain": [
              "<Figure size 600x200 with 1 Axes>"
            ],
            "image/png": "[encoded data removed]"
          },
          "metadata": {}
        }
      ]
    },
    {
      "cell_type": "markdown",
      "source": [
        "# 5. Frete Médio por Loja\n"
      ],
      "metadata": {
        "id": "Fl0cGi3bZKqU"
      }
    },
    {
      "cell_type": "code",
      "source": [
        "media_loja1_frete = loja['Frete'].mean()\n",
        "media_loja2_frete = loja2['Frete'].mean()\n",
        "media_loja3_frete = loja3['Frete'].mean()\n",
        "media_loja4_frete = loja4['Frete'].mean()\n",
        "\n",
        "print(\"Média de Avaliação por Loja: \")\n",
        "print(\"Loja 1:\")\n",
        "print(f'{media_loja1_frete:.2f}')\n",
        "print(\"\\nLoja 2:\")\n",
        "print(f'{media_loja2_frete:.2f}')\n",
        "print(\"\\nLoja 3:\")\n",
        "print(f'{media_loja3_frete:.2f}')\n",
        "print(\"\\nLoja 4:\")\n",
        "print(f'{media_loja4_frete:.2f}')\n"
      ],
      "metadata": {
        "id": "S2JeaCykZNy9",
        "colab": {
          "base_uri": "https://localhost:8080/"
        },
        "outputId": "98a032db-9b92-4da0-d97b-10a7baa6fce6"
      },
      "execution_count": 77,
      "outputs": [
        {
          "output_type": "stream",
          "name": "stdout",
          "text": [
            "Média de Avaliação por Loja: \n",
            "Loja 1:\n",
            "34.69\n",
            "\n",
            "Loja 2:\n",
            "33.62\n",
            "\n",
            "Loja 3:\n",
            "33.07\n",
            "\n",
            "Loja 4:\n",
            "31.28\n"
          ]
        }
      ]
    },
    {
      "cell_type": "code",
      "source": [],
      "metadata": {
        "id": "0tSdCie9ZQlt"
      },
      "execution_count": null,
      "outputs": []
    }
  ]
}